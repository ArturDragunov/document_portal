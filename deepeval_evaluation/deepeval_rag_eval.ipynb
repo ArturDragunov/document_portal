{
 "cells": [
  {
   "cell_type": "code",
   "execution_count": null,
   "id": "d294068e",
   "metadata": {},
   "outputs": [],
   "source": [
    "import os\n",
    "from pathlib import Path\n",
    "from deepeval_evaluation.rag_deepeval_utils import load_goldens, build_deepeval_testcases_from_goldens, evaluate_with_deepeval\n",
    "from src.document_ingestion.data_ingestion import ChatIngestor\n",
    "from dotenv import load_dotenv\n",
    "load_dotenv()"
   ]
  },
  {
   "cell_type": "code",
   "execution_count": null,
   "id": "0fe0345f",
   "metadata": {},
   "outputs": [],
   "source": [
    "# 1) Configuration\n",
    "PROJECT_ROOT = Path.cwd()\n",
    "GOLDENS_PATH = PROJECT_ROOT / \"goldens.json\"\n",
    "SAMPLE_PATH = PROJECT_ROOT / \"sample.pdf\"\n",
    "FAISS_BASE = os.getenv(\"FAISS_BASE\", \"faiss_index\")\n",
    "FAISS_INDEX_NAME = os.getenv(\"FAISS_INDEX_NAME\", \"index\")\n",
    "SESSION_ID = \"deepeval_test\"\n",
    "build_index_from_scratch = True\n",
    "os.environ['KMP_DUPLICATE_LIB_OK'] = 'TRUE'"
   ]
  },
  {
   "cell_type": "code",
   "execution_count": null,
   "id": "b510b5a8",
   "metadata": {},
   "outputs": [],
   "source": [
    "# 2) Build a FAISS session from local docs or skip if index has been already created\n",
    "if build_index_from_scratch:\n",
    "\tpaths_for_upload = [open(SAMPLE_PATH, \"rb\")]\n",
    "\tci = ChatIngestor(temp_base=\"data\", faiss_base=FAISS_BASE, use_session_dirs=True, session_id=SESSION_ID)\n",
    "\tretriever = ci.build_retriever(paths_for_upload, k=5, enable_ocr=False)\n",
    "\tsession_id = ci.session_id\n",
    "\tprint(\"Built new session:\", session_id)\n",
    "else:\n",
    "\tsession_id = SESSION_ID"
   ]
  },
  {
   "cell_type": "code",
   "execution_count": null,
   "id": "ad0f74f3",
   "metadata": {},
   "outputs": [],
   "source": [
    "# 3) Load goldens\n",
    "goldens = load_goldens(str(GOLDENS_PATH))"
   ]
  },
  {
   "cell_type": "code",
   "execution_count": null,
   "id": "0ea01bf6",
   "metadata": {},
   "outputs": [],
   "source": [
    "# 4) Run the RAG evaluation (build test cases)\n",
    "test_cases = build_deepeval_testcases_from_goldens(goldens=goldens, session_id=session_id, k=5)"
   ]
  },
  {
   "cell_type": "code",
   "execution_count": null,
   "id": "df001025",
   "metadata": {},
   "outputs": [],
   "source": [
    "# 5) Run DeepEval\n",
    "results = evaluate_with_deepeval(test_cases=test_cases)"
   ]
  }
 ],
 "metadata": {
  "kernelspec": {
   "display_name": ".venv",
   "language": "python",
   "name": "python3"
  },
  "language_info": {
   "codemirror_mode": {
    "name": "ipython",
    "version": 3
   },
   "file_extension": ".py",
   "mimetype": "text/x-python",
   "name": "python",
   "nbconvert_exporter": "python",
   "pygments_lexer": "ipython3",
   "version": "3.12.11"
  }
 },
 "nbformat": 4,
 "nbformat_minor": 5
}
